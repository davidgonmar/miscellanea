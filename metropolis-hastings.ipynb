{
  "nbformat": 4,
  "nbformat_minor": 0,
  "metadata": {
    "colab": {
      "provenance": [],
      "authorship_tag": "ABX9TyMrRvHxhrry6k2tkGou/bId",
      "include_colab_link": true
    },
    "kernelspec": {
      "name": "python3",
      "display_name": "Python 3"
    },
    "language_info": {
      "name": "python"
    }
  },
  "cells": [
    {
      "cell_type": "markdown",
      "metadata": {
        "id": "view-in-github",
        "colab_type": "text"
      },
      "source": [
        "<a href=\"https://colab.research.google.com/github/davidgonmar/miscellanea/blob/main/metropolis-hastings.ipynb\" target=\"_parent\"><img src=\"https://colab.research.google.com/assets/colab-badge.svg\" alt=\"Open In Colab\"/></a>"
      ]
    },
    {
      "cell_type": "code",
      "execution_count": 10,
      "metadata": {
        "id": "e3wPy6TsO95W"
      },
      "outputs": [],
      "source": [
        "import scipy.stats as st\n",
        "import numpy as np"
      ]
    },
    {
      "cell_type": "code",
      "source": [
        "def prior(p):\n",
        "  return st.uniform.pdf(p, loc=0, scale=1)"
      ],
      "metadata": {
        "id": "9U7LrMeNPDag"
      },
      "execution_count": 11,
      "outputs": []
    },
    {
      "cell_type": "code",
      "source": [
        "def likelihood(p, observation, n):\n",
        "  return st.binom.pmf(observation, n=n, p=p)"
      ],
      "metadata": {
        "id": "QeeCdT2qPMuU"
      },
      "execution_count": 12,
      "outputs": []
    },
    {
      "cell_type": "code",
      "source": [
        "p = np.random.uniform(0, 1)\n",
        "results = []\n",
        "burn_in = 1000\n",
        "lag = 5\n",
        "coinflip = 59\n",
        "for i in range(100000):\n",
        "    new_p = np.random.uniform(0, 1)\n",
        "    acc_ratio = likelihood(new_p, coinflip, 100) / likelihood(p, coinflip, 100) * prior(new_p) / prior(p)\n",
        "    if acc_ratio > np.random.uniform(0, 1):\n",
        "      p = new_p\n",
        "    if i > burn_in and i % lag == 0:\n",
        "      results.append(p)"
      ],
      "metadata": {
        "id": "Ox7tDV4-PpLu"
      },
      "execution_count": 21,
      "outputs": []
    },
    {
      "cell_type": "code",
      "source": [
        "import matplotlib.pyplot as plt\n",
        "\n",
        "plt.hist(results, bins=30)\n",
        "plt.show()\n"
      ],
      "metadata": {
        "id": "h7c3J4HiP8nN",
        "colab": {
          "base_uri": "https://localhost:8080/",
          "height": 430
        },
        "outputId": "e3526e2a-7e8c-4a2b-d89a-bd0545879eb2"
      },
      "execution_count": 23,
      "outputs": [
        {
          "output_type": "display_data",
          "data": {
            "text/plain": [
              "<Figure size 640x480 with 1 Axes>"
            ],
            "image/png": "[encoded data removed]"
          },
          "metadata": {}
        }
      ]
    },
    {
      "cell_type": "code",
      "source": [],
      "metadata": {
        "id": "E0BU6xETiGje"
      },
      "execution_count": null,
      "outputs": []
    }
  ]
}