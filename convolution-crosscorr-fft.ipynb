{
  "nbformat": 4,
  "nbformat_minor": 0,
  "metadata": {
    "colab": {
      "provenance": [],
      "authorship_tag": "ABX9TyNl2dgLCJwwlWxLXnBjVbNI"
    },
    "kernelspec": {
      "name": "python3",
      "display_name": "Python 3"
    },
    "language_info": {
      "name": "python"
    }
  },
  "cells": [
    {
      "cell_type": "markdown",
      "source": [
        "We denote $X \\odot Y$ as the (circular) cross-correlation and $X \\star  Y$ as the (circular) convolution."
      ],
      "metadata": {
        "id": "zNd9esDsgQL3"
      }
    },
    {
      "cell_type": "code",
      "execution_count": 6,
      "metadata": {
        "id": "MMacXxyMgKqY"
      },
      "outputs": [],
      "source": [
        "import torch"
      ]
    },
    {
      "cell_type": "markdown",
      "source": [
        "Circular cross-correlation is defined as\n",
        "$$\n",
        "(X \\odot Y)[k] = \\sum_{n=0}^{N-1} X[n] Y[(k + n) \\operatorname{mod} {N}]\n",
        "$$"
      ],
      "metadata": {
        "id": "WtI4zsTj2sLU"
      }
    },
    {
      "cell_type": "code",
      "source": [
        "siglen = 5\n",
        "x = [\"x\" + str(i) for i in range(siglen)]\n",
        "y = [\"y\" + str(i) for i in range(siglen)]\n",
        "for out_idx in range(siglen):\n",
        "  shflx = [x[i] for i in range(siglen)]\n",
        "  shfly = [y[i] for i in list(map(lambda x: (out_idx + x) % siglen, range(siglen)))]\n",
        "  print(*shflx)\n",
        "  print(*shfly)\n",
        "  print(\"=\" * 10)"
      ],
      "metadata": {
        "colab": {
          "base_uri": "https://localhost:8080/"
        },
        "id": "d4i21k9thWR0",
        "outputId": "8bc99ad0-754b-4f11-bf42-258c7c79bcf8"
      },
      "execution_count": 75,
      "outputs": [
        {
          "output_type": "stream",
          "name": "stdout",
          "text": [
            "x0 x1 x2 x3 x4\n",
            "y0 y1 y2 y3 y4\n",
            "==========\n",
            "x0 x1 x2 x3 x4\n",
            "y1 y2 y3 y4 y0\n",
            "==========\n",
            "x0 x1 x2 x3 x4\n",
            "y2 y3 y4 y0 y1\n",
            "==========\n",
            "x0 x1 x2 x3 x4\n",
            "y3 y4 y0 y1 y2\n",
            "==========\n",
            "x0 x1 x2 x3 x4\n",
            "y4 y0 y1 y2 y3\n",
            "==========\n"
          ]
        }
      ]
    },
    {
      "cell_type": "markdown",
      "source": [
        "Circular convolution is defined as\n",
        "$$\n",
        "(X \\star Y)[k] = \\sum_{n=0}^{N-1} X[n] Y[(k - n) \\operatorname{mod} {N}]\n",
        "$$"
      ],
      "metadata": {
        "id": "tHM2LfKC3Wui"
      }
    },
    {
      "cell_type": "code",
      "source": [
        "siglen = 5\n",
        "x = [\"x\" + str(i) for i in range(siglen)]\n",
        "y = [\"y\" + str(i) for i in range(siglen)]\n",
        "for out_idx in range(siglen):\n",
        "  shflx = [x[i] for i in range(siglen)]\n",
        "  shfly = [y[i] for i in list(map(lambda x: (out_idx - x) % siglen, range(siglen)))]\n",
        "  print(*shflx)\n",
        "  print(*shfly)\n",
        "  print(\"=\" * 10)"
      ],
      "metadata": {
        "colab": {
          "base_uri": "https://localhost:8080/"
        },
        "id": "0omcuiogjEfE",
        "outputId": "d855d845-1b24-4987-d698-d61fd726938c"
      },
      "execution_count": 76,
      "outputs": [
        {
          "output_type": "stream",
          "name": "stdout",
          "text": [
            "x0 x1 x2 x3 x4\n",
            "y0 y4 y3 y2 y1\n",
            "==========\n",
            "x0 x1 x2 x3 x4\n",
            "y1 y0 y4 y3 y2\n",
            "==========\n",
            "x0 x1 x2 x3 x4\n",
            "y2 y1 y0 y4 y3\n",
            "==========\n",
            "x0 x1 x2 x3 x4\n",
            "y3 y2 y1 y0 y4\n",
            "==========\n",
            "x0 x1 x2 x3 x4\n",
            "y4 y3 y2 y1 y0\n",
            "==========\n"
          ]
        }
      ]
    },
    {
      "cell_type": "markdown",
      "source": [
        "They can be obtained one from the other. Particularly, let the circular reversal be defined as $\\tilde{X}[n] = X[-n \\operatorname{mod} N]$. Then, we can obtain cross correlation from convolution by substituting $X \\mapsto \\tilde{X}$:\n",
        "$$\n",
        "(\\tilde{X} \\star Y)[k] = \\sum_{n=0}^{N-1} X[-n] Y[(k - n)] = \\sum_{m=0}^{N-1} X[m] Y[k + m] = (X \\odot Y)[k],\n",
        "$$\n",
        "where indexing is mod $N$, but omitted for brevity. The second equality follows by setting $m = - n$ (summations are preserved since indexing is modular)."
      ],
      "metadata": {
        "id": "RcyveNxD3f1y"
      }
    },
    {
      "cell_type": "code",
      "source": [
        "def _circ_rev(x):\n",
        "    N = len(x)\n",
        "    return [x[(-n) % N] for n in range(N)]\n",
        "siglen = 5\n",
        "x = [\"x\" + str(i) for i in range(siglen)]\n",
        "y = [\"y\" + str(i) for i in range(siglen)]\n",
        "x = _circ_rev(x)\n",
        "for out_idx in range(siglen):\n",
        "  shflx = [x[i] for i in range(siglen)]\n",
        "  shfly = [y[i] for i in list(map(lambda x: (out_idx - x) % siglen, range(siglen)))]\n",
        "  print(*shflx)\n",
        "  print(*shfly)\n",
        "  print(\"=\" * 10)"
      ],
      "metadata": {
        "colab": {
          "base_uri": "https://localhost:8080/"
        },
        "id": "hhhpzLfEd0L8",
        "outputId": "e425460c-4ad1-4a50-9c06-1a9b46dfea41"
      },
      "execution_count": 20,
      "outputs": [
        {
          "output_type": "stream",
          "name": "stdout",
          "text": [
            "x0 x4 x3 x2 x1\n",
            "y0 y4 y3 y2 y1\n",
            "==========\n",
            "x0 x4 x3 x2 x1\n",
            "y1 y0 y4 y3 y2\n",
            "==========\n",
            "x0 x4 x3 x2 x1\n",
            "y2 y1 y0 y4 y3\n",
            "==========\n",
            "x0 x4 x3 x2 x1\n",
            "y3 y2 y1 y0 y4\n",
            "==========\n",
            "x0 x4 x3 x2 x1\n",
            "y4 y3 y2 y1 y0\n",
            "==========\n"
          ]
        }
      ]
    },
    {
      "cell_type": "markdown",
      "source": [
        "The other direction is also true:\n",
        "$$\n",
        "(\\tilde{X} \\odot Y)[k] = \\sum_{n=0}^{N-1} X[-n] Y[(k - n)] = \\sum_{m=0}^{N-1} X[m] Y[k + m] = (X \\star Y)[k].\n",
        "$$"
      ],
      "metadata": {
        "id": "KDYj6NPv9kzw"
      }
    },
    {
      "cell_type": "code",
      "source": [
        "def _circ_rev(x):\n",
        "    N = len(x)\n",
        "    return [x[(-n) % N] for n in range(N)]\n",
        "siglen = 5\n",
        "x = [\"x\" + str(i) for i in range(siglen)]\n",
        "y = [\"y\" + str(i) for i in range(siglen)]\n",
        "x = _circ_rev(x)\n",
        "for out_idx in range(siglen):\n",
        "  shflx = [x[i] for i in range(siglen)]\n",
        "  shfly = [y[i] for i in list(map(lambda x: (out_idx + x) % siglen, range(siglen)))]\n",
        "  print(*shflx)\n",
        "  print(*shfly)\n",
        "  print(\"=\" * 10)"
      ],
      "metadata": {
        "colab": {
          "base_uri": "https://localhost:8080/"
        },
        "id": "lRNvA6yveqnQ",
        "outputId": "32f1aab7-6002-42d8-f0f4-e51e6ba98f32"
      },
      "execution_count": 2,
      "outputs": [
        {
          "output_type": "stream",
          "name": "stdout",
          "text": [
            "x0 x4 x3 x2 x1\n",
            "y0 y1 y2 y3 y4\n",
            "==========\n",
            "x0 x4 x3 x2 x1\n",
            "y1 y2 y3 y4 y0\n",
            "==========\n",
            "x0 x4 x3 x2 x1\n",
            "y2 y3 y4 y0 y1\n",
            "==========\n",
            "x0 x4 x3 x2 x1\n",
            "y3 y4 y0 y1 y2\n",
            "==========\n",
            "x0 x4 x3 x2 x1\n",
            "y4 y0 y1 y2 y3\n",
            "==========\n"
          ]
        }
      ]
    },
    {
      "cell_type": "markdown",
      "source": [
        "In deep learning, we generally use \"linear convolutions\" (well, actually, we use linear cross-correlations). These can be implemented by padding, performing a circular convolution, and cropping. The following cell performs $W \\star_L X$."
      ],
      "metadata": {
        "id": "Vykwegxg9-5p"
      }
    },
    {
      "cell_type": "code",
      "source": [
        "x = [\"x\" + str(i) for i in range(7)]\n",
        "w = [\"w\" + str(i) for i in range(3)]\n",
        "siglen = len(x) + len(w) - 1\n",
        "x = x + [\"0 \"] * (siglen - len(x))\n",
        "w = w + [\"0 \"] * (siglen - len(w))\n",
        "for out_idx in range(siglen):\n",
        "  shflw = [w[i] for i in range(siglen)]\n",
        "  shflx = [x[i] for i in list(map(lambda x: (out_idx + x) % siglen, range(siglen)))]\n",
        "  print(*shflw)\n",
        "  print(*shflx)\n",
        "  print(\"=\" * 10)"
      ],
      "metadata": {
        "colab": {
          "base_uri": "https://localhost:8080/"
        },
        "id": "5RJ6uk2q675m",
        "outputId": "9a8cb416-f163-460d-80d3-955dd0497f16"
      },
      "execution_count": 144,
      "outputs": [
        {
          "output_type": "stream",
          "name": "stdout",
          "text": [
            "w0 w1 w2 0  0  0  0  0  0 \n",
            "x0 x1 x2 x3 x4 x5 x6 0  0 \n",
            "==========\n",
            "w0 w1 w2 0  0  0  0  0  0 \n",
            "x1 x2 x3 x4 x5 x6 0  0  x0\n",
            "==========\n",
            "w0 w1 w2 0  0  0  0  0  0 \n",
            "x2 x3 x4 x5 x6 0  0  x0 x1\n",
            "==========\n",
            "w0 w1 w2 0  0  0  0  0  0 \n",
            "x3 x4 x5 x6 0  0  x0 x1 x2\n",
            "==========\n",
            "w0 w1 w2 0  0  0  0  0  0 \n",
            "x4 x5 x6 0  0  x0 x1 x2 x3\n",
            "==========\n",
            "w0 w1 w2 0  0  0  0  0  0 \n",
            "x5 x6 0  0  x0 x1 x2 x3 x4\n",
            "==========\n",
            "w0 w1 w2 0  0  0  0  0  0 \n",
            "x6 0  0  x0 x1 x2 x3 x4 x5\n",
            "==========\n",
            "w0 w1 w2 0  0  0  0  0  0 \n",
            "0  0  x0 x1 x2 x3 x4 x5 x6\n",
            "==========\n",
            "w0 w1 w2 0  0  0  0  0  0 \n",
            "0  x0 x1 x2 x3 x4 x5 x6 0 \n",
            "==========\n"
          ]
        }
      ]
    },
    {
      "cell_type": "markdown",
      "source": [
        "Similarly, we can obtain linear cross-correlation by circular reversal of the signal after paddding."
      ],
      "metadata": {
        "id": "bERJZ2vx-wkY"
      }
    },
    {
      "cell_type": "code",
      "source": [
        "def _circ_rev(x):\n",
        "    N = len(x)\n",
        "    return [x[(-n) % N] for n in range(N)]\n",
        "x = [\"x\" + str(i) for i in range(7)]\n",
        "w = [\"w\" + str(i) for i in range(3)]\n",
        "siglen = len(x) + len(w) - 1\n",
        "x = x + [\"0 \"] * (siglen - len(x))\n",
        "w = w + [\"0 \"] * (siglen - len(w))\n",
        "w = _circ_rev(w)\n",
        "for out_idx in range(siglen):\n",
        "  shflw = [w[i] for i in range(siglen)]\n",
        "  shflx = [x[i] for i in list(map(lambda x: (out_idx - x) % siglen, range(siglen)))]\n",
        "  print(*shflw)\n",
        "  print(*shflx)\n",
        "  print(\"=\" * 10)"
      ],
      "metadata": {
        "colab": {
          "base_uri": "https://localhost:8080/"
        },
        "id": "tGM39TVnQRaU",
        "outputId": "37e36d51-b147-4386-d164-e9400025e0ca"
      },
      "execution_count": 9,
      "outputs": [
        {
          "output_type": "stream",
          "name": "stdout",
          "text": [
            "w0 0  0  0  0  0  0  w2 w1\n",
            "x0 0  0  x6 x5 x4 x3 x2 x1\n",
            "==========\n",
            "w0 0  0  0  0  0  0  w2 w1\n",
            "x1 x0 0  0  x6 x5 x4 x3 x2\n",
            "==========\n",
            "w0 0  0  0  0  0  0  w2 w1\n",
            "x2 x1 x0 0  0  x6 x5 x4 x3\n",
            "==========\n",
            "w0 0  0  0  0  0  0  w2 w1\n",
            "x3 x2 x1 x0 0  0  x6 x5 x4\n",
            "==========\n",
            "w0 0  0  0  0  0  0  w2 w1\n",
            "x4 x3 x2 x1 x0 0  0  x6 x5\n",
            "==========\n",
            "w0 0  0  0  0  0  0  w2 w1\n",
            "x5 x4 x3 x2 x1 x0 0  0  x6\n",
            "==========\n",
            "w0 0  0  0  0  0  0  w2 w1\n",
            "x6 x5 x4 x3 x2 x1 x0 0  0 \n",
            "==========\n",
            "w0 0  0  0  0  0  0  w2 w1\n",
            "0  x6 x5 x4 x3 x2 x1 x0 0 \n",
            "==========\n",
            "w0 0  0  0  0  0  0  w2 w1\n",
            "0  0  x6 x5 x4 x3 x2 x1 x0\n",
            "==========\n"
          ]
        }
      ]
    },
    {
      "cell_type": "markdown",
      "source": [
        "By the convolution theorem,\n",
        "$$\n",
        "X \\star Y = \\operatorname{Re}(\\operatorname{IDFT}(\\operatorname{DFT}(X) \\cdot \\operatorname{DFT}(Y))),\n",
        "$$\n",
        "and by noting that $\\tilde{X} = \\operatorname{DFT}(X)^*$,\n",
        "$$\n",
        "X \\odot Y = \\operatorname{Re}(\\operatorname{IDFT}(\\operatorname{DFT}(X)^* \\cdot \\operatorname{DFT}(Y))).\n",
        "$$\n",
        "We are interested in linear cross-correlation, matching PyTorch's API."
      ],
      "metadata": {
        "id": "rpqP6ldw_B_k"
      }
    },
    {
      "cell_type": "code",
      "source": [
        "# First, circular reverse in time space.\n",
        "def _circ_rev(x):\n",
        "    N = len(x)\n",
        "    return torch.tensor([x[(-n) % N] for n in range(N)])\n",
        "\n",
        "def conv1d(x, w):\n",
        "  retsize = x.size(0) - w.size(0) + 1\n",
        "  padlen = x.size(0) + w.size(0) - 1\n",
        "  padded_x = torch.nn.functional.pad(x, (0, padlen - x.size(0)))\n",
        "  padded_w = torch.nn.functional.pad(w, (0, padlen - w.size(0)))\n",
        "  padded_w = _circ_rev(padded_w)\n",
        "  x_freq = torch.fft.fft(padded_x)\n",
        "  w_freq = torch.fft.fft(padded_w)\n",
        "  fullconv = torch.fft.ifft(w_freq * x_freq ).real\n",
        "  return fullconv[:retsize]\n",
        "x = torch.tensor([1., 2., 3., 5.0, 2.0])\n",
        "y = torch.tensor([0., 1., 0.5])\n",
        "print(conv1d(x, y))\n",
        "print(torch.nn.functional.conv1d(x.unsqueeze(0).unsqueeze(0), y.unsqueeze(0).unsqueeze(0)).squeeze(0).squeeze(0))"
      ],
      "metadata": {
        "colab": {
          "base_uri": "https://localhost:8080/"
        },
        "id": "A-ArMf3ShFbF",
        "outputId": "ad873387-20da-4f40-91ce-fe1789ad2958"
      },
      "execution_count": 18,
      "outputs": [
        {
          "output_type": "stream",
          "name": "stdout",
          "text": [
            "tensor([3.5000, 5.5000, 6.0000])\n",
            "tensor([3.5000, 5.5000, 6.0000])\n"
          ]
        }
      ]
    },
    {
      "cell_type": "code",
      "source": [
        "# Circular reverse in time space <=> conjugation in frequency space\n",
        "def conv1d(x, w):\n",
        "  retsize = x.size(0) - w.size(0) + 1\n",
        "  padlen = x.size(0) + w.size(0) - 1\n",
        "  padded_x = torch.nn.functional.pad(x, (0, padlen - x.size(0)))\n",
        "  padded_w = torch.nn.functional.pad(w, (0, padlen - w.size(0)))\n",
        "  x_freq = torch.fft.fft(padded_x)\n",
        "  w_freq = torch.fft.fft(padded_w).conj()\n",
        "  fullconv = torch.fft.ifft(w_freq * x_freq ).real\n",
        "  return fullconv[:retsize]\n",
        "\n",
        "x = torch.tensor([1., 2., 3., 5.0, 2.0])\n",
        "y = torch.tensor([0., 1., 0.5])\n",
        "print(conv1d(x, y))\n",
        "print(torch.nn.functional.conv1d(x.unsqueeze(0).unsqueeze(0), y.unsqueeze(0).unsqueeze(0)).squeeze(0).squeeze(0))"
      ],
      "metadata": {
        "colab": {
          "base_uri": "https://localhost:8080/"
        },
        "id": "WBEsw8op1tNo",
        "outputId": "50c335f1-8207-4321-b17a-e8f6e763e6ae"
      },
      "execution_count": 19,
      "outputs": [
        {
          "output_type": "stream",
          "name": "stdout",
          "text": [
            "tensor([3.5000, 5.5000, 6.0000])\n",
            "tensor([3.5000, 5.5000, 6.0000])\n"
          ]
        }
      ]
    }
  ]
}