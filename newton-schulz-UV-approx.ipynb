{
  "nbformat": 4,
  "nbformat_minor": 0,
  "metadata": {
    "colab": {
      "provenance": [],
      "machine_shape": "hm",
      "gpuType": "L4",
      "authorship_tag": "ABX9TyMsMhGTGjXGSOdT8iv7Sk84"
    },
    "kernelspec": {
      "name": "python3",
      "display_name": "Python 3"
    },
    "language_info": {
      "name": "python"
    },
    "accelerator": "GPU"
  },
  "cells": [
    {
      "cell_type": "code",
      "execution_count": 3,
      "metadata": {
        "colab": {
          "base_uri": "https://localhost:8080/"
        },
        "id": "7BHDsm2ANKCy",
        "outputId": "4802f511-a62d-41b8-d310-297d7cce43e2"
      },
      "outputs": [
        {
          "output_type": "stream",
          "name": "stdout",
          "text": [
            "Size 64x64 | Orthogonalize: 0.96 ms | SVD: 1.27 ms | rel err: 1.470e-02\n",
            "Size 128x128 | Orthogonalize: 0.95 ms | SVD: 2.80 ms | rel err: 6.394e-02\n",
            "Size 256x256 | Orthogonalize: 0.89 ms | SVD: 7.60 ms | rel err: 6.531e-02\n",
            "Size 512x512 | Orthogonalize: 1.02 ms | SVD: 21.24 ms | rel err: 6.234e-02\n",
            "Size 1024x1024 | Orthogonalize: 4.18 ms | SVD: 74.05 ms | rel err: 8.226e-02\n",
            "Size 2048x2048 | Orthogonalize: 28.88 ms | SVD: 583.89 ms | rel err: 9.820e-02\n"
          ]
        }
      ],
      "source": [
        "import torch\n",
        "import time\n",
        "import statistics as stats\n",
        "\n",
        "def orthogonalize(M):\n",
        "    abc_list = [\n",
        "        (3955/1024, -8306/1024, 5008/1024),\n",
        "        (3735/1024, -6681/1024, 3463/1024),\n",
        "        (3799/1024, -6499/1024, 3211/1024),\n",
        "        (4019/1024, -6385/1024, 2906/1024),\n",
        "        (2677/1024, -3029/1024, 1162/1024),\n",
        "        (2172/1024, -1833/1024,  682/1024)\n",
        "    ]\n",
        "    transpose = M.shape[1] > M.shape[0]\n",
        "    if transpose:\n",
        "        M = M.T\n",
        "    M = M / torch.linalg.norm(M)\n",
        "    for a, b, c in abc_list:\n",
        "        A = M.T @ M\n",
        "        I = torch.eye(A.shape[0], device=M.device, dtype=M.dtype)\n",
        "        M = M @ (a * I + b * A + c * A @ A)\n",
        "    if transpose:\n",
        "        M = M.T\n",
        "    return M\n",
        "\n",
        "def orthogonalize_svd(M):\n",
        "    U, _, Vh = torch.linalg.svd(M, full_matrices=False)\n",
        "    return U @ Vh\n",
        "\n",
        "def sync(device):\n",
        "    if device == \"cuda\":\n",
        "        torch.cuda.synchronize()\n",
        "\n",
        "def benchmark(fn, x, device, warmup=5, iters=20):\n",
        "    for _ in range(warmup):\n",
        "        _ = fn(x.clone())\n",
        "        sync(device)\n",
        "    times = []\n",
        "    for _ in range(iters):\n",
        "        inp = x.clone()\n",
        "        sync(device)\n",
        "        t0 = time.perf_counter()\n",
        "        _ = fn(inp)\n",
        "        sync(device)\n",
        "        t1 = time.perf_counter()\n",
        "        times.append((t1 - t0) * 1000)\n",
        "    return stats.median(times)\n",
        "\n",
        "def rel_error(A, B):\n",
        "    return (torch.linalg.norm(A - B) / torch.linalg.norm(B)).item()\n",
        "\n",
        "if __name__ == \"__main__\":\n",
        "    torch.manual_seed(0)\n",
        "    device = \"cuda\" if torch.cuda.is_available() else \"cpu\"\n",
        "    sizes = [(64, 64), (128, 128), (256, 256), (512, 512), (1024, 1024), (2048, 2048)]\n",
        "    for (m, n) in sizes:\n",
        "        M = torch.randn(m, n, device=device)\n",
        "        t1 = benchmark(orthogonalize, M, device)\n",
        "        t2 = benchmark(orthogonalize_svd, M, device)\n",
        "        Q1 = orthogonalize(M.clone())\n",
        "        Q2 = orthogonalize_svd(M.clone())\n",
        "        e = rel_error(Q1, Q2)\n",
        "        print(f\"Size {m}x{n} | Orthogonalize: {t1:.2f} ms | SVD: {t2:.2f} ms | rel err: {e:.3e}\")\n",
        "\n"
      ]
    },
    {
      "cell_type": "code",
      "source": [],
      "metadata": {
        "id": "QmY7_BrhOaDu"
      },
      "execution_count": null,
      "outputs": []
    }
  ]
}