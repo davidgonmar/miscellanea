{
  "nbformat": 4,
  "nbformat_minor": 0,
  "metadata": {
    "colab": {
      "provenance": [],
      "gpuType": "A100",
      "authorship_tag": "ABX9TyMePQATTXKZmhNK/7tCfLT9"
    },
    "kernelspec": {
      "name": "python3",
      "display_name": "Python 3"
    },
    "language_info": {
      "name": "python"
    },
    "accelerator": "GPU"
  },
  "cells": [
    {
      "cell_type": "markdown",
      "source": [
        "# Simple Energy-Based Model (attempt)"
      ],
      "metadata": {
        "id": "kVryRVBNyi-1"
      }
    },
    {
      "cell_type": "code",
      "execution_count": null,
      "metadata": {
        "id": "RZPLUNFBpshK"
      },
      "outputs": [],
      "source": [
        "import math, torch, torch.nn as nn, torch.nn.functional as F\n",
        "from torchvision import datasets, transforms, utils\n",
        "from torch.utils.data import DataLoader\n",
        "\n",
        "device = 'cuda' if torch.cuda.is_available() else 'cpu'\n",
        "torch.manual_seed(0)\n",
        "if device == 'cuda': torch.cuda.manual_seed_all(0)\n",
        "\n",
        "\n",
        "transform = transforms.Compose([\n",
        "    transforms.ToTensor(),\n",
        "    transforms.Normalize((0.5,), (0.5,))\n",
        "])\n",
        "\n",
        "ds = datasets.MNIST('./data', train=True, download=True, transform=transform)\n",
        "loader = DataLoader(ds, batch_size=128, shuffle=True, drop_last=True, num_workers=2, pin_memory=(device=='cuda'))\n",
        "\n",
        "class EBM(nn.Module):\n",
        "    def __init__(self):\n",
        "        super().__init__()\n",
        "        ch = 64\n",
        "        self.f = nn.Sequential(\n",
        "            nn.Conv2d(1, ch, 3, 2, 1), nn.SiLU(),\n",
        "            nn.Conv2d(ch, ch*2, 3, 2, 1), nn.SiLU(),\n",
        "            nn.Conv2d(ch*2, ch*4, 3, 2, 1), nn.SiLU(),\n",
        "        )\n",
        "        self.head = nn.Linear(ch*4*4*4, 1)\n",
        "\n",
        "    def forward(self, x):\n",
        "        h = self.f(x)\n",
        "        h = h.flatten(1)\n",
        "        return self.head(h).squeeze(-1)\n",
        "\n",
        "E = EBM().to(device)\n",
        "opt = torch.optim.AdamW(E.parameters(), lr=1e-4, betas=(0.9, 0.999))\n",
        "\n",
        "\n",
        "N = len(ds)\n",
        "replay = torch.randn(N, 1, 28, 28, device=device)\n",
        "\n",
        "def sgld(init, steps=120, eps=1e-3):\n",
        "    x = init.detach().clone().requires_grad_(True)\n",
        "    noise_scale = (2.0 * eps) ** 0.5\n",
        "    for _ in range(steps):\n",
        "        e = E(x).sum()\n",
        "        (g,) = torch.autograd.grad(e, x, create_graph=False)\n",
        "        x = x - eps * g + noise_scale * torch.randn_like(x)\n",
        "        x = x.detach().clamp(-1, 1).requires_grad_(True)\n",
        "    return x.detach().clamp(-1, 1)\n",
        "\n",
        "\n",
        "E.train()\n",
        "log_every = 100\n",
        "global_step = 0\n",
        "\n",
        "for epoch in range(10):\n",
        "    for x_pos, _ in loader:\n",
        "        x_pos = x_pos.to(device, non_blocking=True)\n",
        "        idx = torch.randint(0, N, (x_pos.size(0),), device=device)\n",
        "        x_neg0 = replay[idx]\n",
        "\n",
        "        mix = torch.rand(x_pos.size(0), 1, 1, 1, device=device)\n",
        "        x_start = (mix * x_pos + (1 - mix) * x_neg0).clamp(-1, 1)\n",
        "\n",
        "        x_neg = sgld(x_start, steps=120)\n",
        "        replay[idx] = x_neg\n",
        "\n",
        "        e_pos = E(x_pos)\n",
        "        e_neg = E(x_neg)\n",
        "        loss = e_pos.mean() - e_neg.mean()\n",
        "        reg_loss = (e_pos ** 2 + e_neg ** 2).mean()\n",
        "        opt.zero_grad(set_to_none=True)\n",
        "        (loss + 1e-4 * reg_loss).backward()\n",
        "        nn.utils.clip_grad_norm_(E.parameters(), 1.0)\n",
        "        opt.step()\n",
        "\n",
        "        global_step += 1\n",
        "        if global_step % log_every == 0:\n",
        "            with torch.no_grad():\n",
        "                print(f\"step {global_step:6d}  loss {loss.item():.4f}  e_pos {e_pos.mean().item():.3f}  e_neg {e_neg.mean().item():.3f}\")\n"
      ]
    },
    {
      "cell_type": "code",
      "source": [
        "from torchvision.utils import make_grid\n",
        "import matplotlib.pyplot as plt\n",
        "\n",
        "\n",
        "x_samp = sgld(torch.randn(16, 1, 28, 28, device=device), steps=1000)\n",
        "grid = make_grid((x_samp + 1) / 2, nrow=8)\n",
        "plt.figure(figsize=(8, 8))\n",
        "plt.axis('off')\n",
        "plt.imshow(grid.permute(1, 2, 0).cpu().numpy())\n",
        "plt.show()\n"
      ],
      "metadata": {
        "id": "AjVWAkjA1zoI"
      },
      "execution_count": null,
      "outputs": []
    },
    {
      "cell_type": "code",
      "source": [],
      "metadata": {
        "id": "1QRBa1LO4djY"
      },
      "execution_count": null,
      "outputs": []
    }
  ]
}