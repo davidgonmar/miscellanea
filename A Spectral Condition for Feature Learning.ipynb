{
  "nbformat": 4,
  "nbformat_minor": 0,
  "metadata": {
    "colab": {
      "provenance": [],
      "gpuType": "T4",
      "authorship_tag": "ABX9TyO/QcJ1+F/np0//o4faIjZl",
      "include_colab_link": true
    },
    "kernelspec": {
      "name": "python3",
      "display_name": "Python 3"
    },
    "language_info": {
      "name": "python"
    },
    "accelerator": "GPU"
  },
  "cells": [
    {
      "cell_type": "markdown",
      "metadata": {
        "id": "view-in-github",
        "colab_type": "text"
      },
      "source": [
        "<a href=\"https://colab.research.google.com/github/davidgonmar/miscellanea/blob/main/A%20Spectral%20Condition%20for%20Feature%20Learning.ipynb\" target=\"_parent\"><img src=\"https://colab.research.google.com/assets/colab-badge.svg\" alt=\"Open In Colab\"/></a>"
      ]
    },
    {
      "cell_type": "markdown",
      "source": [
        "Reference: https://arxiv.org/pdf/2310.17813"
      ],
      "metadata": {
        "id": "Uupt2Vjg8DXT"
      }
    },
    {
      "cell_type": "markdown",
      "source": [
        "In page 5, they use random matrix theory results to claim\n",
        "$$\n",
        "\\|W_l h_{l - 1}(x) \\|_2 = \\|h(x)_{l - 1} \\|_2 \\sigma_l \\sqrt{(n_l)}\n",
        "$$\n",
        "when $W_l$ is a Gaussian matrix with mean 0 and standard deviation $\\sigma_l$."
      ],
      "metadata": {
        "id": "sHp6o7gaBqx3"
      }
    },
    {
      "cell_type": "code",
      "execution_count": 6,
      "metadata": {
        "colab": {
          "base_uri": "https://localhost:8080/"
        },
        "id": "QnXiQJ587GEL",
        "outputId": "171e78c8-e12f-41f8-fcb0-42e7e003baec"
      },
      "outputs": [
        {
          "output_type": "stream",
          "name": "stdout",
          "text": [
            "m=512 n=256 sigma=0.5 lhs_ratio≈0.991\n",
            "m=512 n=256 sigma=1.0 lhs_ratio≈0.991\n",
            "m=1024 n=512 sigma=0.5 lhs_ratio≈0.998\n",
            "m=1024 n=512 sigma=1.0 lhs_ratio≈0.998\n"
          ]
        }
      ],
      "source": [
        "import numpy as np\n",
        "\n",
        "def ratios(m, n, sigma, trials=50, seed=0):\n",
        "    rng = np.random.default_rng(seed)\n",
        "    h = rng.normal(size=n)\n",
        "    lhs_ratios = []\n",
        "    for _ in range(trials):\n",
        "        W = rng.normal(0, sigma, size=(m, n))\n",
        "        lhs = np.linalg.norm(W @ h)\n",
        "        lhs_ratios.append(lhs / (np.linalg.norm(h) * sigma * np.sqrt(m)))\n",
        "    return np.mean(lhs_ratios)\n",
        "\n",
        "for m, n in [(512,256),(1024,512)]:\n",
        "    for sigma in [0.5,1.0]:\n",
        "        lhs = ratios(m,n,sigma)\n",
        "        print(f\"m={m} n={n} sigma={sigma} lhs_ratio≈{lhs:.3f}\")"
      ]
    },
    {
      "cell_type": "markdown",
      "source": [
        "Does it hold during the training of a simple NN?"
      ],
      "metadata": {
        "id": "W7wdfOBdEXZe"
      }
    },
    {
      "cell_type": "code",
      "source": [
        "import torch\n",
        "import torch.nn as nn\n",
        "import torch.nn.functional as F\n",
        "import torch.optim as optim\n",
        "from torchvision import datasets, transforms\n",
        "import matplotlib.pyplot as plt\n",
        "import numpy as np\n",
        "\n",
        "device = \"cuda\" if torch.cuda.is_available() else \"cpu\"\n",
        "\n",
        "\n",
        "class MLP(nn.Module):\n",
        "    def __init__(self, d_in=784, d_hid=512, d_out=10, sigma=1.0):\n",
        "        super().__init__()\n",
        "        self.fc1 = nn.Linear(d_in, d_hid, bias=False)\n",
        "        self.fc2 = nn.Linear(d_hid, d_out, bias=False)\n",
        "        nn.init.normal_(self.fc1.weight, mean=0.0, std=sigma)\n",
        "        nn.init.normal_(self.fc2.weight, mean=0.0, std=sigma)\n",
        "    def forward(self, x):\n",
        "        x = x.view(x.size(0), -1)\n",
        "        h1 = self.fc1(x)\n",
        "        out = self.fc2(h1)\n",
        "        return out, [x, h1]\n",
        "\n",
        "\n",
        "model = MLP().to(device)\n",
        "opt = optim.Adam(model.parameters(), lr=1e-3)\n",
        "\n",
        "train_loader = torch.utils.data.DataLoader(\n",
        "    datasets.MNIST(\"./data\", train=True, download=True, transform=transforms.ToTensor()),\n",
        "    batch_size=256,\n",
        "    shuffle=True,\n",
        ")\n",
        "\n",
        "ratios_log = {\"fc1_lhs\": [], \"fc2_lhs\": []}\n",
        "\n",
        "epochs = 100\n",
        "for epoch in range(epochs):\n",
        "    for x, y in train_loader:\n",
        "        x, y = x.to(device), y.to(device)\n",
        "        opt.zero_grad()\n",
        "        out, _ = model(x)\n",
        "        loss = F.cross_entropy(out, y)\n",
        "        loss.backward()\n",
        "        opt.step()\n",
        "\n",
        "    x, _ = next(iter(train_loader))\n",
        "    x = x.to(device)\n",
        "    _, acts = model(x)\n",
        "    with torch.no_grad():\n",
        "        fc1_W = model.fc1.weight.data\n",
        "        fc2_W = model.fc2.weight.data\n",
        "        h0 = acts[0].detach()\n",
        "        h1 = acts[1].detach()\n",
        "        m1, _ = fc1_W.shape\n",
        "        m2, _ = fc2_W.shape\n",
        "        s1 = torch.std(fc1_W)\n",
        "        s2 = torch.std(fc2_W)\n",
        "        lhs1 = torch.norm(torch.nn.functional.linear(h0, fc1_W), dim=1)\n",
        "        lhs2 = torch.norm(torch.nn.functional.linear(h1, fc2_W), dim=1)\n",
        "        r1 = (lhs1 / (torch.norm(h0, dim=1) * s1 * np.sqrt(m1) + 1e-12)).mean().item()\n",
        "        r2 = (lhs2 / (torch.norm(h1, dim=1) * s2 * np.sqrt(m2) + 1e-12)).mean().item()\n",
        "        ratios_log[\"fc1_lhs\"].append(r1)\n",
        "        ratios_log[\"fc2_lhs\"].append(r2)\n",
        "        print(r1, r2)\n"
      ],
      "metadata": {
        "colab": {
          "base_uri": "https://localhost:8080/"
        },
        "id": "slb04IVY7Gov",
        "outputId": "f09a16b8-db59-4ef9-b62f-822bd3b2e3f9"
      },
      "execution_count": 23,
      "outputs": [
        {
          "output_type": "stream",
          "name": "stdout",
          "text": [
            "1.0092391967773438 0.9014762043952942\n",
            "1.0102431774139404 0.9206674098968506\n",
            "1.01201593875885 0.927358865737915\n",
            "1.008225917816162 0.89715975522995\n",
            "1.0069477558135986 0.8878639936447144\n",
            "1.0062158107757568 0.8617318868637085\n",
            "1.002958059310913 0.838976263999939\n",
            "1.0076419115066528 0.8372429609298706\n",
            "1.0020334720611572 0.7908152937889099\n",
            "1.0044951438903809 0.7720245718955994\n",
            "1.0029324293136597 0.7351745367050171\n",
            "1.002328634262085 0.7203543782234192\n",
            "1.0035643577575684 0.7211803197860718\n",
            "0.9995548129081726 0.6772832274436951\n",
            "1.0007262229919434 0.6834693551063538\n",
            "0.9985594153404236 0.6510213613510132\n",
            "1.0011565685272217 0.6666761636734009\n",
            "0.9989109039306641 0.6529135704040527\n",
            "0.9981926083564758 0.6267523765563965\n",
            "0.9969613552093506 0.6096571683883667\n",
            "0.9951040744781494 0.5803329348564148\n",
            "0.9962152242660522 0.587618887424469\n",
            "0.998271107673645 0.5767865180969238\n",
            "0.9934729337692261 0.5927804708480835\n",
            "0.9940436482429504 0.5878245830535889\n",
            "0.9899703860282898 0.5994803309440613\n",
            "0.9890213012695312 0.5533559322357178\n",
            "0.9891143441200256 0.540290355682373\n",
            "0.9901257753372192 0.5554041862487793\n",
            "0.9893913269042969 0.550279974937439\n",
            "0.9896526336669922 0.5320627689361572\n",
            "0.9902445077896118 0.5523242354393005\n",
            "0.9881758689880371 0.53633713722229\n",
            "0.9846880435943604 0.5135428309440613\n",
            "0.9852075576782227 0.5153505802154541\n",
            "0.9828481674194336 0.49201858043670654\n",
            "0.9831954836845398 0.5248819589614868\n",
            "0.9833419322967529 0.5445343255996704\n",
            "0.9826383590698242 0.509223222732544\n",
            "0.9839009046554565 0.5211833715438843\n",
            "0.9791916012763977 0.5298095941543579\n",
            "0.9804933071136475 0.4966714382171631\n",
            "0.9804750680923462 0.4975646138191223\n",
            "0.9794797897338867 0.49354287981987\n",
            "0.9767187833786011 0.5034264326095581\n",
            "0.9786957502365112 0.5101455450057983\n",
            "0.9751892685890198 0.49018311500549316\n",
            "0.975997805595398 0.4984552264213562\n",
            "0.9758310317993164 0.4934248626232147\n",
            "0.972368061542511 0.4982341527938843\n",
            "0.9749166369438171 0.49420300126075745\n",
            "0.9727029800415039 0.48807722330093384\n",
            "0.9740140438079834 0.5016669631004333\n",
            "0.9733835458755493 0.47708356380462646\n",
            "0.9749255180358887 0.4885920584201813\n",
            "0.9731205701828003 0.46774572134017944\n",
            "0.9744830131530762 0.4887884855270386\n",
            "0.9725049734115601 0.48271265625953674\n",
            "0.9707376956939697 0.48505616188049316\n",
            "0.9699556827545166 0.4762688875198364\n",
            "0.9667377471923828 0.47441843152046204\n",
            "0.9653804302215576 0.4816790521144867\n",
            "0.9710054397583008 0.4951484203338623\n",
            "0.9686741828918457 0.4906439185142517\n",
            "0.9654859304428101 0.47792065143585205\n",
            "0.9674388766288757 0.4833064079284668\n",
            "0.9688720703125 0.45130544900894165\n",
            "0.9673891067504883 0.47811201214790344\n",
            "0.9648329019546509 0.4866310954093933\n",
            "0.9637205600738525 0.45957404375076294\n",
            "0.9631890654563904 0.49168121814727783\n",
            "0.9597392678260803 0.4689725637435913\n",
            "0.9624661803245544 0.47518715262413025\n",
            "0.9596498012542725 0.47874554991722107\n",
            "0.9601856470108032 0.4868706166744232\n",
            "0.9605409502983093 0.4849715828895569\n",
            "0.9595922231674194 0.47424235939979553\n",
            "0.9571393132209778 0.4612075686454773\n",
            "0.9561911821365356 0.48843860626220703\n",
            "0.9552624225616455 0.482444703578949\n",
            "0.9570935964584351 0.48917728662490845\n",
            "0.9589426517486572 0.4579611122608185\n",
            "0.9565857648849487 0.4728730022907257\n",
            "0.9551246166229248 0.5003700852394104\n",
            "0.9556218981742859 0.48323845863342285\n",
            "0.9528347253799438 0.48182934522628784\n",
            "0.9534885883331299 0.4709296226501465\n",
            "0.9532800912857056 0.46771758794784546\n",
            "0.9540006518363953 0.45503759384155273\n",
            "0.9519221782684326 0.4898948669433594\n",
            "0.952864408493042 0.4479678273200989\n",
            "0.9542438983917236 0.4801276922225952\n",
            "0.9505969285964966 0.48660916090011597\n",
            "0.9538252353668213 0.4900413751602173\n",
            "0.9502115249633789 0.4809300899505615\n",
            "0.9482916593551636 0.4734994173049927\n",
            "0.9453734755516052 0.45918697118759155\n",
            "0.9481197595596313 0.45557674765586853\n",
            "0.9451361298561096 0.4701130986213684\n",
            "0.9437510371208191 0.49023348093032837\n"
          ]
        }
      ]
    },
    {
      "cell_type": "code",
      "source": [
        "e = np.arange(1, len(ratios_log[\"fc1_lhs\"]) + 1)\n",
        "plt.figure(figsize=(8, 4.5))\n",
        "plt.plot(e, ratios_log[\"fc1_lhs\"], label=\"fc1 lhs_ratio\")\n",
        "plt.plot(e, ratios_log[\"fc2_lhs\"], label=\"fc2 lhs_ratio\")\n",
        "plt.axhline(1.0, linestyle=\"--\")\n",
        "plt.xlabel(\"epoch\")\n",
        "plt.ylabel(\"ratio\")\n",
        "plt.legend()\n",
        "plt.title(\"||Wh|| ratio during training\")\n",
        "plt.show()"
      ],
      "metadata": {
        "colab": {
          "base_uri": "https://localhost:8080/",
          "height": 449
        },
        "id": "wl2q2Tu-8zL_",
        "outputId": "260c7730-2fa4-4a1a-85c0-65e28e116056"
      },
      "execution_count": 25,
      "outputs": [
        {
          "output_type": "display_data",
          "data": {
            "text/plain": [
              "<Figure size 800x450 with 1 Axes>"
            ],
            "image/png": "[encoded data removed]"
          },
          "metadata": {}
        }
      ]
    }
  ]
}