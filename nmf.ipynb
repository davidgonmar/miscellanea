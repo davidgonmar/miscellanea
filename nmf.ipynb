{
 "cells": [
  {
   "cell_type": "markdown",
   "metadata": {},
   "source": [
    "# Non-negative matrix factorization example"
   ]
  },
  {
   "cell_type": "code",
   "execution_count": 19,
   "metadata": {},
   "outputs": [],
   "source": [
    "import numpy as np\n",
    "import matplotlib.pyplot as plt"
   ]
  },
  {
   "cell_type": "code",
   "execution_count": 20,
   "metadata": {},
   "outputs": [],
   "source": [
    "# The objective is, having a matrix V, compute two non-negative matrices W and H such that V ≈ WH.\n",
    "\n",
    "def objective(V: np.array, W: np.array, H: np.array, compute_grads: bool = False):\n",
    "    # obj(V, W, H) = ||V - WH||^2\n",
    "    # dobj/dW = -2 * (V - WH)H^T\n",
    "    # dobj/dH = -2 * W^T(V - WH)\n",
    "    WH = np.dot(W, H)\n",
    "    diff = V - WH\n",
    "    obj = np.sum(diff**2)\n",
    "    if not compute_grads:\n",
    "        return obj\n",
    "    grad_W = -2 * np.dot(diff, H.T)\n",
    "    grad_H = -2 * np.dot(W.T, diff)\n",
    "    return obj, grad_W, grad_H"
   ]
  },
  {
   "cell_type": "code",
   "execution_count": null,
   "metadata": {},
   "outputs": [],
   "source": [
    "\n",
    "V = np.abs(np.random.rand(40, 10)) @ np.abs(np.random.rand(10, 40))\n",
    "\n",
    "W = np.abs(np.random.rand(40, 10))\n",
    "H = np.abs(np.random.rand(10, 40))\n",
    "H_orig, W_orig = H.copy(), W.copy()\n",
    "\n",
    "n_iters = 10000\n",
    "step_size = 0.00005\n",
    "sparsity_obj = 0.1\n",
    "\n",
    "losses = []\n",
    "for i in range(n_iters):\n",
    "    obj, grad_W, grad_H = objective(V, W, H, compute_grads=True)\n",
    "    W = W * (V @ H.T) / (W @ H @ H.T)\n",
    "    H = H * (W.T @ V) / (W.T @ W @ H)\n",
    "\n",
    "    if i % 100 == 0:\n",
    "        print(f\"Iteration {i}, obj={obj}\")\n",
    "\n",
    "    losses.append(obj)\n",
    "\n",
    "obj = objective(V, W, H)\n",
    "print(f\"Final obj={obj}\")\n",
    "\n"
   ]
  },
  {
   "cell_type": "code",
   "execution_count": null,
   "metadata": {},
   "outputs": [],
   "source": [
    "plt.plot(losses[2000:])"
   ]
  }
 ],
 "metadata": {
  "kernelspec": {
   "display_name": "torch",
   "language": "python",
   "name": "python3"
  },
  "language_info": {
   "codemirror_mode": {
    "name": "ipython",
    "version": 3
   },
   "file_extension": ".py",
   "mimetype": "text/x-python",
   "name": "python",
   "nbconvert_exporter": "python",
   "pygments_lexer": "ipython3",
   "version": "3.11.5"
  }
 },
 "nbformat": 4,
 "nbformat_minor": 2
}
