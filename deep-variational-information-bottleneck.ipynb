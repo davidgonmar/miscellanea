{
  "nbformat": 4,
  "nbformat_minor": 0,
  "metadata": {
    "colab": {
      "provenance": [],
      "machine_shape": "hm",
      "gpuType": "L4",
      "authorship_tag": "ABX9TyNTyjSXjUVfIoWVTJ9i1qAq",
      "include_colab_link": true
    },
    "kernelspec": {
      "name": "python3",
      "display_name": "Python 3"
    },
    "language_info": {
      "name": "python"
    },
    "accelerator": "GPU"
  },
  "cells": [
    {
      "cell_type": "markdown",
      "metadata": {
        "id": "view-in-github",
        "colab_type": "text"
      },
      "source": [
        "<a href=\"https://colab.research.google.com/github/davidgonmar/miscellanea/blob/main/deep-variational-information-bottleneck.ipynb\" target=\"_parent\"><img src=\"https://colab.research.google.com/assets/colab-badge.svg\" alt=\"Open In Colab\"/></a>"
      ]
    },
    {
      "cell_type": "markdown",
      "source": [
        "Implementation of the ideas on https://arxiv.org/abs/1612.00410."
      ],
      "metadata": {
        "id": "bG3SwM0mxGyT"
      }
    },
    {
      "cell_type": "code",
      "execution_count": 7,
      "metadata": {
        "colab": {
          "base_uri": "https://localhost:8080/"
        },
        "id": "_ZlwJoPKiCKb",
        "outputId": "59fe63d6-f4ae-49de-ff23-7a274cbd3b11"
      },
      "outputs": [
        {
          "output_type": "stream",
          "name": "stderr",
          "text": [
            "epoch 1/50: 100%|██████████| 469/469 [00:04<00:00, 111.23it/s, ce=0.666, kl=4.56, loss=1.12]\n"
          ]
        },
        {
          "output_type": "stream",
          "name": "stdout",
          "text": [
            "val_acc=87.60% val_CE=0.4793 Ixz=4.5962 Iyz=1.8233\n"
          ]
        },
        {
          "output_type": "stream",
          "name": "stderr",
          "text": [
            "epoch 2/50: 100%|██████████| 469/469 [00:04<00:00, 112.50it/s, ce=0.268, kl=4.82, loss=0.75]\n"
          ]
        },
        {
          "output_type": "stream",
          "name": "stdout",
          "text": [
            "val_acc=89.42% val_CE=0.3841 Ixz=4.8015 Iyz=1.9185\n"
          ]
        },
        {
          "output_type": "stream",
          "name": "stderr",
          "text": [
            "epoch 3/50: 100%|██████████| 469/469 [00:04<00:00, 108.32it/s, ce=0.385, kl=5.22, loss=0.907]\n"
          ]
        },
        {
          "output_type": "stream",
          "name": "stdout",
          "text": [
            "val_acc=90.77% val_CE=0.3281 Ixz=5.1142 Iyz=1.9744\n"
          ]
        },
        {
          "output_type": "stream",
          "name": "stderr",
          "text": [
            "epoch 4/50: 100%|██████████| 469/469 [00:04<00:00, 113.81it/s, ce=0.238, kl=4.81, loss=0.719]\n"
          ]
        },
        {
          "output_type": "stream",
          "name": "stdout",
          "text": [
            "val_acc=90.75% val_CE=0.3232 Ixz=4.8579 Iyz=1.9794\n"
          ]
        },
        {
          "output_type": "stream",
          "name": "stderr",
          "text": [
            "epoch 5/50: 100%|██████████| 469/469 [00:04<00:00, 111.13it/s, ce=0.235, kl=4.98, loss=0.733]\n"
          ]
        },
        {
          "output_type": "stream",
          "name": "stdout",
          "text": [
            "val_acc=91.23% val_CE=0.2938 Ixz=4.9091 Iyz=2.0088\n"
          ]
        },
        {
          "output_type": "stream",
          "name": "stderr",
          "text": [
            "epoch 6/50: 100%|██████████| 469/469 [00:04<00:00, 113.20it/s, ce=0.239, kl=4.87, loss=0.726]\n"
          ]
        },
        {
          "output_type": "stream",
          "name": "stdout",
          "text": [
            "val_acc=91.44% val_CE=0.2935 Ixz=4.8139 Iyz=2.0090\n"
          ]
        },
        {
          "output_type": "stream",
          "name": "stderr",
          "text": [
            "epoch 7/50: 100%|██████████| 469/469 [00:04<00:00, 110.18it/s, ce=0.302, kl=4.78, loss=0.78]\n"
          ]
        },
        {
          "output_type": "stream",
          "name": "stdout",
          "text": [
            "val_acc=90.93% val_CE=0.3033 Ixz=4.7021 Iyz=1.9993\n"
          ]
        },
        {
          "output_type": "stream",
          "name": "stderr",
          "text": [
            "epoch 8/50: 100%|██████████| 469/469 [00:04<00:00, 109.72it/s, ce=0.355, kl=4.64, loss=0.819]\n"
          ]
        },
        {
          "output_type": "stream",
          "name": "stdout",
          "text": [
            "val_acc=90.95% val_CE=0.3058 Ixz=4.4485 Iyz=1.9968\n"
          ]
        },
        {
          "output_type": "stream",
          "name": "stderr",
          "text": [
            "epoch 9/50: 100%|██████████| 469/469 [00:04<00:00, 115.97it/s, ce=0.274, kl=4.66, loss=0.741]\n"
          ]
        },
        {
          "output_type": "stream",
          "name": "stdout",
          "text": [
            "val_acc=92.02% val_CE=0.2691 Ixz=4.6689 Iyz=2.0334\n"
          ]
        },
        {
          "output_type": "stream",
          "name": "stderr",
          "text": [
            "epoch 10/50: 100%|██████████| 469/469 [00:04<00:00, 106.46it/s, ce=0.291, kl=4.68, loss=0.76]\n"
          ]
        },
        {
          "output_type": "stream",
          "name": "stdout",
          "text": [
            "val_acc=91.86% val_CE=0.2741 Ixz=4.5537 Iyz=2.0284\n"
          ]
        },
        {
          "output_type": "stream",
          "name": "stderr",
          "text": [
            "epoch 11/50: 100%|██████████| 469/469 [00:04<00:00, 115.19it/s, ce=0.297, kl=4.86, loss=0.783]\n"
          ]
        },
        {
          "output_type": "stream",
          "name": "stdout",
          "text": [
            "val_acc=92.77% val_CE=0.2536 Ixz=4.8415 Iyz=2.0489\n"
          ]
        },
        {
          "output_type": "stream",
          "name": "stderr",
          "text": [
            "epoch 12/50: 100%|██████████| 469/469 [00:04<00:00, 109.75it/s, ce=0.257, kl=4.71, loss=0.728]\n"
          ]
        },
        {
          "output_type": "stream",
          "name": "stdout",
          "text": [
            "val_acc=93.33% val_CE=0.2390 Ixz=4.6283 Iyz=2.0636\n"
          ]
        },
        {
          "output_type": "stream",
          "name": "stderr",
          "text": [
            "epoch 13/50: 100%|██████████| 469/469 [00:04<00:00, 106.89it/s, ce=0.114, kl=4.59, loss=0.574]\n"
          ]
        },
        {
          "output_type": "stream",
          "name": "stdout",
          "text": [
            "val_acc=92.82% val_CE=0.2573 Ixz=4.5191 Iyz=2.0453\n"
          ]
        },
        {
          "output_type": "stream",
          "name": "stderr",
          "text": [
            "epoch 14/50: 100%|██████████| 469/469 [00:04<00:00, 113.93it/s, ce=0.136, kl=4.55, loss=0.59]\n"
          ]
        },
        {
          "output_type": "stream",
          "name": "stdout",
          "text": [
            "val_acc=93.59% val_CE=0.2344 Ixz=4.4530 Iyz=2.0682\n"
          ]
        },
        {
          "output_type": "stream",
          "name": "stderr",
          "text": [
            "epoch 15/50: 100%|██████████| 469/469 [00:04<00:00, 112.50it/s, ce=0.104, kl=4.36, loss=0.539]\n"
          ]
        },
        {
          "output_type": "stream",
          "name": "stdout",
          "text": [
            "val_acc=93.36% val_CE=0.2353 Ixz=4.3354 Iyz=2.0673\n"
          ]
        },
        {
          "output_type": "stream",
          "name": "stderr",
          "text": [
            "epoch 16/50: 100%|██████████| 469/469 [00:03<00:00, 118.52it/s, ce=0.198, kl=4.34, loss=0.632]\n"
          ]
        },
        {
          "output_type": "stream",
          "name": "stdout",
          "text": [
            "val_acc=93.58% val_CE=0.2287 Ixz=4.3471 Iyz=2.0739\n"
          ]
        },
        {
          "output_type": "stream",
          "name": "stderr",
          "text": [
            "epoch 17/50: 100%|██████████| 469/469 [00:04<00:00, 113.05it/s, ce=0.177, kl=4.16, loss=0.593]\n"
          ]
        },
        {
          "output_type": "stream",
          "name": "stdout",
          "text": [
            "val_acc=93.88% val_CE=0.2228 Ixz=4.1512 Iyz=2.0798\n"
          ]
        },
        {
          "output_type": "stream",
          "name": "stderr",
          "text": [
            "epoch 18/50: 100%|██████████| 469/469 [00:04<00:00, 113.42it/s, ce=0.144, kl=4.32, loss=0.576]\n"
          ]
        },
        {
          "output_type": "stream",
          "name": "stdout",
          "text": [
            "val_acc=94.62% val_CE=0.2145 Ixz=4.1493 Iyz=2.0881\n"
          ]
        },
        {
          "output_type": "stream",
          "name": "stderr",
          "text": [
            "epoch 19/50: 100%|██████████| 469/469 [00:04<00:00, 107.37it/s, ce=0.0518, kl=4.25, loss=0.477]\n"
          ]
        },
        {
          "output_type": "stream",
          "name": "stdout",
          "text": [
            "val_acc=94.04% val_CE=0.2154 Ixz=4.1108 Iyz=2.0872\n"
          ]
        },
        {
          "output_type": "stream",
          "name": "stderr",
          "text": [
            "epoch 20/50: 100%|██████████| 469/469 [00:04<00:00, 111.76it/s, ce=0.111, kl=4.2, loss=0.531]\n"
          ]
        },
        {
          "output_type": "stream",
          "name": "stdout",
          "text": [
            "val_acc=94.74% val_CE=0.1992 Ixz=4.1287 Iyz=2.1034\n"
          ]
        },
        {
          "output_type": "stream",
          "name": "stderr",
          "text": [
            "epoch 21/50: 100%|██████████| 469/469 [00:04<00:00, 113.19it/s, ce=0.11, kl=3.97, loss=0.507]\n"
          ]
        },
        {
          "output_type": "stream",
          "name": "stdout",
          "text": [
            "val_acc=94.26% val_CE=0.2073 Ixz=3.9087 Iyz=2.0952\n"
          ]
        },
        {
          "output_type": "stream",
          "name": "stderr",
          "text": [
            "epoch 22/50: 100%|██████████| 469/469 [00:04<00:00, 108.25it/s, ce=0.0381, kl=4.03, loss=0.441]\n"
          ]
        },
        {
          "output_type": "stream",
          "name": "stdout",
          "text": [
            "val_acc=94.32% val_CE=0.2133 Ixz=3.8743 Iyz=2.0893\n"
          ]
        },
        {
          "output_type": "stream",
          "name": "stderr",
          "text": [
            "epoch 23/50: 100%|██████████| 469/469 [00:04<00:00, 114.76it/s, ce=0.129, kl=4.16, loss=0.545]\n"
          ]
        },
        {
          "output_type": "stream",
          "name": "stdout",
          "text": [
            "val_acc=94.70% val_CE=0.2053 Ixz=4.0148 Iyz=2.0973\n"
          ]
        },
        {
          "output_type": "stream",
          "name": "stderr",
          "text": [
            "epoch 24/50: 100%|██████████| 469/469 [00:04<00:00, 111.46it/s, ce=0.0861, kl=4.01, loss=0.487]\n"
          ]
        },
        {
          "output_type": "stream",
          "name": "stdout",
          "text": [
            "val_acc=94.60% val_CE=0.1918 Ixz=3.9593 Iyz=2.1107\n"
          ]
        },
        {
          "output_type": "stream",
          "name": "stderr",
          "text": [
            "epoch 25/50: 100%|██████████| 469/469 [00:04<00:00, 111.00it/s, ce=0.0663, kl=3.94, loss=0.46]\n"
          ]
        },
        {
          "output_type": "stream",
          "name": "stdout",
          "text": [
            "val_acc=95.02% val_CE=0.1949 Ixz=3.8877 Iyz=2.1077\n"
          ]
        },
        {
          "output_type": "stream",
          "name": "stderr",
          "text": [
            "epoch 26/50: 100%|██████████| 469/469 [00:04<00:00, 112.59it/s, ce=0.11, kl=4.09, loss=0.519]\n"
          ]
        },
        {
          "output_type": "stream",
          "name": "stdout",
          "text": [
            "val_acc=95.24% val_CE=0.1896 Ixz=4.0016 Iyz=2.1130\n"
          ]
        },
        {
          "output_type": "stream",
          "name": "stderr",
          "text": [
            "epoch 27/50: 100%|██████████| 469/469 [00:04<00:00, 112.82it/s, ce=0.116, kl=3.98, loss=0.514]\n"
          ]
        },
        {
          "output_type": "stream",
          "name": "stdout",
          "text": [
            "val_acc=94.96% val_CE=0.2031 Ixz=3.8397 Iyz=2.0995\n"
          ]
        },
        {
          "output_type": "stream",
          "name": "stderr",
          "text": [
            "epoch 28/50: 100%|██████████| 469/469 [00:04<00:00, 111.09it/s, ce=0.127, kl=4, loss=0.527]\n"
          ]
        },
        {
          "output_type": "stream",
          "name": "stdout",
          "text": [
            "val_acc=94.89% val_CE=0.1990 Ixz=3.8592 Iyz=2.1036\n"
          ]
        },
        {
          "output_type": "stream",
          "name": "stderr",
          "text": [
            "epoch 29/50: 100%|██████████| 469/469 [00:04<00:00, 109.74it/s, ce=0.0884, kl=3.98, loss=0.486]\n"
          ]
        },
        {
          "output_type": "stream",
          "name": "stdout",
          "text": [
            "val_acc=95.21% val_CE=0.1951 Ixz=3.9381 Iyz=2.1075\n"
          ]
        },
        {
          "output_type": "stream",
          "name": "stderr",
          "text": [
            "epoch 30/50: 100%|██████████| 469/469 [00:04<00:00, 110.08it/s, ce=0.17, kl=3.87, loss=0.557]\n"
          ]
        },
        {
          "output_type": "stream",
          "name": "stdout",
          "text": [
            "val_acc=95.25% val_CE=0.1912 Ixz=3.8926 Iyz=2.1114\n"
          ]
        },
        {
          "output_type": "stream",
          "name": "stderr",
          "text": [
            "epoch 31/50: 100%|██████████| 469/469 [00:04<00:00, 108.44it/s, ce=0.0652, kl=4.02, loss=0.468]\n"
          ]
        },
        {
          "output_type": "stream",
          "name": "stdout",
          "text": [
            "val_acc=95.27% val_CE=0.1908 Ixz=3.9563 Iyz=2.1117\n"
          ]
        },
        {
          "output_type": "stream",
          "name": "stderr",
          "text": [
            "epoch 32/50: 100%|██████████| 469/469 [00:04<00:00, 108.54it/s, ce=0.126, kl=3.9, loss=0.515]\n"
          ]
        },
        {
          "output_type": "stream",
          "name": "stdout",
          "text": [
            "val_acc=95.43% val_CE=0.1943 Ixz=3.9200 Iyz=2.1083\n"
          ]
        },
        {
          "output_type": "stream",
          "name": "stderr",
          "text": [
            "epoch 33/50: 100%|██████████| 469/469 [00:04<00:00, 105.29it/s, ce=0.0805, kl=3.9, loss=0.47]\n"
          ]
        },
        {
          "output_type": "stream",
          "name": "stdout",
          "text": [
            "val_acc=95.26% val_CE=0.1991 Ixz=3.9205 Iyz=2.1035\n"
          ]
        },
        {
          "output_type": "stream",
          "name": "stderr",
          "text": [
            "epoch 34/50: 100%|██████████| 469/469 [00:04<00:00, 116.16it/s, ce=0.0401, kl=4.01, loss=0.441]\n"
          ]
        },
        {
          "output_type": "stream",
          "name": "stdout",
          "text": [
            "val_acc=95.43% val_CE=0.1895 Ixz=3.9403 Iyz=2.1131\n"
          ]
        },
        {
          "output_type": "stream",
          "name": "stderr",
          "text": [
            "epoch 35/50: 100%|██████████| 469/469 [00:04<00:00, 108.48it/s, ce=0.0245, kl=3.83, loss=0.408]\n"
          ]
        },
        {
          "output_type": "stream",
          "name": "stdout",
          "text": [
            "val_acc=94.95% val_CE=0.2186 Ixz=3.7806 Iyz=2.0840\n"
          ]
        },
        {
          "output_type": "stream",
          "name": "stderr",
          "text": [
            "epoch 36/50: 100%|██████████| 469/469 [00:04<00:00, 105.41it/s, ce=0.0468, kl=3.88, loss=0.435]\n"
          ]
        },
        {
          "output_type": "stream",
          "name": "stdout",
          "text": [
            "val_acc=95.12% val_CE=0.2033 Ixz=3.8644 Iyz=2.0993\n"
          ]
        },
        {
          "output_type": "stream",
          "name": "stderr",
          "text": [
            "epoch 37/50: 100%|██████████| 469/469 [00:04<00:00, 113.19it/s, ce=0.0657, kl=3.76, loss=0.442]\n"
          ]
        },
        {
          "output_type": "stream",
          "name": "stdout",
          "text": [
            "val_acc=94.60% val_CE=0.2168 Ixz=3.7326 Iyz=2.0858\n"
          ]
        },
        {
          "output_type": "stream",
          "name": "stderr",
          "text": [
            "epoch 38/50: 100%|██████████| 469/469 [00:04<00:00, 109.69it/s, ce=0.0577, kl=3.85, loss=0.443]\n"
          ]
        },
        {
          "output_type": "stream",
          "name": "stdout",
          "text": [
            "val_acc=95.38% val_CE=0.2107 Ixz=3.7969 Iyz=2.0919\n"
          ]
        },
        {
          "output_type": "stream",
          "name": "stderr",
          "text": [
            "epoch 39/50: 100%|██████████| 469/469 [00:04<00:00, 112.02it/s, ce=0.0527, kl=3.8, loss=0.432]\n"
          ]
        },
        {
          "output_type": "stream",
          "name": "stdout",
          "text": [
            "val_acc=95.43% val_CE=0.2009 Ixz=3.7906 Iyz=2.1017\n"
          ]
        },
        {
          "output_type": "stream",
          "name": "stderr",
          "text": [
            "epoch 40/50: 100%|██████████| 469/469 [00:04<00:00, 111.11it/s, ce=0.0859, kl=3.8, loss=0.466]\n"
          ]
        },
        {
          "output_type": "stream",
          "name": "stdout",
          "text": [
            "val_acc=95.67% val_CE=0.1892 Ixz=3.8449 Iyz=2.1134\n"
          ]
        },
        {
          "output_type": "stream",
          "name": "stderr",
          "text": [
            "epoch 41/50: 100%|██████████| 469/469 [00:04<00:00, 111.90it/s, ce=0.0611, kl=3.79, loss=0.44]\n"
          ]
        },
        {
          "output_type": "stream",
          "name": "stdout",
          "text": [
            "val_acc=95.51% val_CE=0.1845 Ixz=3.7832 Iyz=2.1181\n"
          ]
        },
        {
          "output_type": "stream",
          "name": "stderr",
          "text": [
            "epoch 42/50: 100%|██████████| 469/469 [00:04<00:00, 112.36it/s, ce=0.0381, kl=3.8, loss=0.418]\n"
          ]
        },
        {
          "output_type": "stream",
          "name": "stdout",
          "text": [
            "val_acc=95.30% val_CE=0.1921 Ixz=3.7535 Iyz=2.1105\n"
          ]
        },
        {
          "output_type": "stream",
          "name": "stderr",
          "text": [
            "epoch 43/50: 100%|██████████| 469/469 [00:04<00:00, 113.33it/s, ce=0.0422, kl=3.78, loss=0.42]\n"
          ]
        },
        {
          "output_type": "stream",
          "name": "stdout",
          "text": [
            "val_acc=95.28% val_CE=0.2018 Ixz=3.6925 Iyz=2.1008\n"
          ]
        },
        {
          "output_type": "stream",
          "name": "stderr",
          "text": [
            "epoch 44/50: 100%|██████████| 469/469 [00:04<00:00, 110.46it/s, ce=0.0264, kl=3.65, loss=0.392]\n"
          ]
        },
        {
          "output_type": "stream",
          "name": "stdout",
          "text": [
            "val_acc=95.26% val_CE=0.2140 Ixz=3.6542 Iyz=2.0886\n"
          ]
        },
        {
          "output_type": "stream",
          "name": "stderr",
          "text": [
            "epoch 45/50: 100%|██████████| 469/469 [00:04<00:00, 107.95it/s, ce=0.0946, kl=3.66, loss=0.461]\n"
          ]
        },
        {
          "output_type": "stream",
          "name": "stdout",
          "text": [
            "val_acc=95.42% val_CE=0.2056 Ixz=3.7121 Iyz=2.0969\n"
          ]
        },
        {
          "output_type": "stream",
          "name": "stderr",
          "text": [
            "epoch 46/50: 100%|██████████| 469/469 [00:04<00:00, 109.72it/s, ce=0.0821, kl=3.72, loss=0.454]\n"
          ]
        },
        {
          "output_type": "stream",
          "name": "stdout",
          "text": [
            "val_acc=95.55% val_CE=0.2022 Ixz=3.6946 Iyz=2.1004\n"
          ]
        },
        {
          "output_type": "stream",
          "name": "stderr",
          "text": [
            "epoch 47/50: 100%|██████████| 469/469 [00:04<00:00, 113.58it/s, ce=0.0885, kl=3.8, loss=0.469]\n"
          ]
        },
        {
          "output_type": "stream",
          "name": "stdout",
          "text": [
            "val_acc=95.58% val_CE=0.2092 Ixz=3.6682 Iyz=2.0933\n"
          ]
        },
        {
          "output_type": "stream",
          "name": "stderr",
          "text": [
            "epoch 48/50: 100%|██████████| 469/469 [00:04<00:00, 111.54it/s, ce=0.0671, kl=3.64, loss=0.431]\n"
          ]
        },
        {
          "output_type": "stream",
          "name": "stdout",
          "text": [
            "val_acc=95.45% val_CE=0.2141 Ixz=3.6793 Iyz=2.0885\n"
          ]
        },
        {
          "output_type": "stream",
          "name": "stderr",
          "text": [
            "epoch 49/50: 100%|██████████| 469/469 [00:04<00:00, 113.70it/s, ce=0.0537, kl=3.68, loss=0.421]\n"
          ]
        },
        {
          "output_type": "stream",
          "name": "stdout",
          "text": [
            "val_acc=95.02% val_CE=0.2331 Ixz=3.6661 Iyz=2.0695\n"
          ]
        },
        {
          "output_type": "stream",
          "name": "stderr",
          "text": [
            "epoch 50/50: 100%|██████████| 469/469 [00:04<00:00, 108.74it/s, ce=0.112, kl=3.82, loss=0.494]\n"
          ]
        },
        {
          "output_type": "stream",
          "name": "stdout",
          "text": [
            "val_acc=96.11% val_CE=0.1907 Ixz=3.8314 Iyz=2.1119\n"
          ]
        }
      ],
      "source": [
        "import random\n",
        "import torch\n",
        "import torch.nn as nn\n",
        "import torch.nn.functional as F\n",
        "from torch.utils.data import DataLoader\n",
        "from torchvision import datasets, transforms\n",
        "from tqdm import tqdm\n",
        "import matplotlib.pyplot as plt\n",
        "import math\n",
        "\n",
        "Z_DIM = 64\n",
        "BETA = 1e-1\n",
        "EPOCHS = 50\n",
        "BATCH_SIZE = 128\n",
        "LR = 1e-3\n",
        "SEED = 42\n",
        "NUM_WORKERS = 2\n",
        "MC_EVAL = 1\n",
        "DEVICE = \"cuda\" if torch.cuda.is_available() else \"cpu\"\n",
        "DATA_ROOT = \"./data\"\n",
        "\n",
        "\n",
        "def seed_all(s: int) -> None:\n",
        "    random.seed(s)\n",
        "    torch.manual_seed(s)\n",
        "\n",
        "class MLPEncoder(nn.Module):\n",
        "    def __init__(self, in_dim: int, z_dim: int, hidden=(512, 256)) -> None:\n",
        "        super().__init__()\n",
        "        layers = []\n",
        "        last = in_dim\n",
        "        for h in hidden:\n",
        "            layers += [nn.Linear(last, h), nn.ReLU(inplace=True)]\n",
        "            last = h\n",
        "        self.net = nn.Sequential(*layers)\n",
        "        self.mu = nn.Linear(last, z_dim)\n",
        "        self.logvar = nn.Linear(last, z_dim)\n",
        "\n",
        "    def forward(self, x: torch.Tensor):\n",
        "        h = self.net(x)\n",
        "        return self.mu(h), self.logvar(h)\n",
        "\n",
        "\n",
        "class Classifier(nn.Module):\n",
        "    def __init__(self, z_dim: int, num_classes: int) -> None:\n",
        "        super().__init__()\n",
        "        self.head = nn.Linear(z_dim, num_classes)\n",
        "\n",
        "    def forward(self, z: torch.Tensor) -> torch.Tensor:\n",
        "        return self.head(z)\n",
        "\n",
        "\n",
        "class VIB(nn.Module):\n",
        "    def __init__(self, enc: nn.Module, clf: nn.Module) -> None:\n",
        "        super().__init__()\n",
        "        self.encoder = enc\n",
        "        self.classifier = clf\n",
        "\n",
        "    @staticmethod\n",
        "    def reparam(mu: torch.Tensor, logvar: torch.Tensor) -> torch.Tensor:\n",
        "        std = (0.5 * logvar).exp()\n",
        "        eps = torch.randn_like(std)\n",
        "        return mu + eps * std\n",
        "\n",
        "    @staticmethod\n",
        "    def kl(mu: torch.Tensor, logvar: torch.Tensor) -> torch.Tensor:\n",
        "        return 0.5 * (mu.pow(2) + logvar.exp() - 1.0 - logvar).sum(dim=1)\n",
        "\n",
        "    def forward(self, x: torch.Tensor):\n",
        "        mu, logvar = self.encoder(x)\n",
        "        z = self.reparam(mu, logvar)\n",
        "        logits = self.classifier(z)\n",
        "        return logits, mu, logvar\n",
        "\n",
        "\n",
        "def get_mnist():\n",
        "    t = transforms.Compose([transforms.ToTensor(), transforms.Lambda(lambda t: t.view(-1))])\n",
        "    tr = datasets.MNIST(DATA_ROOT, train=True, download=True, transform=t)\n",
        "    te = datasets.MNIST(DATA_ROOT, train=False, download=True, transform=t)\n",
        "    in_dim = 28 * 28\n",
        "    num_classes = 10\n",
        "    tr_loader = DataLoader(tr, batch_size=BATCH_SIZE, shuffle=True, num_workers=NUM_WORKERS, pin_memory=True)\n",
        "    te_loader = DataLoader(te, batch_size=BATCH_SIZE, shuffle=False, num_workers=NUM_WORKERS, pin_memory=True)\n",
        "    return tr_loader, te_loader, in_dim, num_classes\n",
        "\n",
        "\n",
        "@torch.no_grad()\n",
        "def evaluate(model: VIB, loader: DataLoader):\n",
        "    model.eval()\n",
        "    ce_list = []\n",
        "    kl_list = []\n",
        "    correct = 0\n",
        "    total = 0\n",
        "    for x, y in loader:\n",
        "        x = x.to(DEVICE)\n",
        "        y = y.to(DEVICE)\n",
        "        logits_acc = 0\n",
        "        kl_acc = 0\n",
        "        for _ in range(max(1, MC_EVAL)):\n",
        "            logits, mu, logvar = model(x)\n",
        "            logits_acc = logits_acc + logits\n",
        "            kl_acc = kl_acc + VIB.kl(mu, logvar)\n",
        "        logits = logits_acc / max(1, MC_EVAL)\n",
        "        kl = kl_acc / max(1, MC_EVAL)\n",
        "        ce = F.cross_entropy(logits, y, reduction=\"none\")\n",
        "        ce_list.append(ce.detach())\n",
        "        kl_list.append(kl.detach())\n",
        "        pred = logits.argmax(1)\n",
        "        correct += (pred == y).sum().item()\n",
        "        total += y.size(0)\n",
        "    ce = torch.cat(ce_list).mean().item()\n",
        "    kl = torch.cat(kl_list).mean().item()\n",
        "    acc = correct / max(1, total)\n",
        "    return ce, kl, acc\n",
        "\n",
        "\n",
        "seed_all(SEED)\n",
        "tr_loader, te_loader, IN_DIM, NUM_CLASSES = get_mnist()\n",
        "enc = MLPEncoder(IN_DIM, Z_DIM)\n",
        "clf = Classifier(Z_DIM, NUM_CLASSES)\n",
        "model = VIB(enc, clf).to(DEVICE)\n",
        "opt = torch.optim.Adam(model.parameters(), lr=LR)\n",
        "\n",
        "train_acc, val_acc = [], []\n",
        "train_loss, val_loss = [], []\n",
        "train_ixz, val_ixz = [], []\n",
        "train_iyz, val_iyz = [], []\n",
        "H_Y = math.log(NUM_CLASSES) # we assume classes follow an uniform dist\n",
        "\n",
        "for epoch in range(1, EPOCHS + 1):\n",
        "    model.train()\n",
        "    p = tqdm(tr_loader, desc=f\"epoch {epoch}/{EPOCHS}\")\n",
        "    ce_sum, kl_sum, loss_sum, correct, total, n_batches = 0.0, 0.0, 0.0, 0, 0, 0\n",
        "    for x, y in p:\n",
        "        x = x.to(DEVICE)\n",
        "        y = y.to(DEVICE)\n",
        "        logits, mu, logvar = model(x)\n",
        "        ce = F.cross_entropy(logits, y)\n",
        "        kl = VIB.kl(mu, logvar).mean()\n",
        "        loss = ce + BETA * kl\n",
        "        opt.zero_grad()\n",
        "        loss.backward()\n",
        "        opt.step()\n",
        "        p.set_postfix(loss=loss.item(), ce=ce.item(), kl=kl.item())\n",
        "        ce_sum += ce.item()\n",
        "        kl_sum += kl.item()\n",
        "        loss_sum += loss.item()\n",
        "        pred = logits.argmax(1)\n",
        "        correct += (pred == y).sum().item()\n",
        "        total += y.size(0)\n",
        "        n_batches += 1\n",
        "    ce_tr = ce_sum / n_batches\n",
        "    kl_tr = kl_sum / n_batches\n",
        "    loss_tr = loss_sum / n_batches\n",
        "    acc_tr = correct / total\n",
        "    train_ixz.append(kl_tr)\n",
        "    train_iyz.append(H_Y - ce_tr)\n",
        "    train_loss.append(loss_tr)\n",
        "    train_acc.append(acc_tr)\n",
        "\n",
        "    ce_v, kl_v, acc_v = evaluate(model, te_loader)\n",
        "    val_ixz.append(kl_v)\n",
        "    val_iyz.append(H_Y - ce_v)\n",
        "    val_loss.append(ce_v + BETA * kl_v)\n",
        "    val_acc.append(acc_v)\n",
        "\n",
        "    print(f\"val_acc={acc_v*100:.2f}% val_CE={ce_v:.4f} Ixz={kl_v:.4f} Iyz={H_Y - ce_v:.4f}\")\n"
      ]
    },
    {
      "cell_type": "code",
      "source": [
        "epochs = range(1, EPOCHS + 1)\n",
        "\n",
        "plt.figure(figsize=(7,4.5))\n",
        "plt.plot(epochs, train_acc, label=\"train acc\")\n",
        "plt.plot(epochs, val_acc, label=\"val acc\")\n",
        "plt.xlabel(\"epoch\"); plt.ylabel(\"accuracy\"); plt.title(\"Accuracy\"); plt.legend(); plt.tight_layout()\n",
        "\n",
        "plt.figure(figsize=(7,4.5))\n",
        "plt.plot(epochs, train_loss, label=\"train loss\")\n",
        "plt.plot(epochs, val_loss, label=\"val loss\")\n",
        "plt.xlabel(\"epoch\"); plt.ylabel(\"loss\"); plt.title(\"Loss\"); plt.legend(); plt.tight_layout()\n",
        "\n",
        "plt.figure(figsize=(7,4.5))\n",
        "plt.plot(epochs, train_ixz, label=\"train Ixz\")\n",
        "plt.plot(epochs, val_ixz, label=\"val Ixz\")\n",
        "plt.xlabel(\"epoch\"); plt.ylabel(\"nats\"); plt.title(\"I(X;Z)\"); plt.legend(); plt.tight_layout()\n",
        "\n",
        "plt.figure(figsize=(7,4.5))\n",
        "plt.plot(epochs, train_iyz, label=\"train Iyz\")\n",
        "plt.plot(epochs, val_iyz, label=\"val Iyz\")\n",
        "plt.xlabel(\"epoch\"); plt.ylabel(\"nats\"); plt.title(\"I(Y;Z)\"); plt.legend(); plt.tight_layout()\n",
        "\n",
        "plt.show()"
      ],
      "metadata": {
        "colab": {
          "base_uri": "https://localhost:8080/",
          "height": 1000
        },
        "id": "aH2KTJTeiK0G",
        "outputId": "a8b202cf-5f39-4424-9a1c-f3ba752ac75c"
      },
      "execution_count": 8,
      "outputs": [
        {
          "output_type": "display_data",
          "data": {
            "text/plain": [
              "<Figure size 700x450 with 1 Axes>"
            ],
            "image/png": "[encoded data removed]"
          },
          "metadata": {}
        },
        {
          "output_type": "display_data",
          "data": {
            "text/plain": [
              "<Figure size 700x450 with 1 Axes>"
            ],
            "image/png": "[encoded data removed]"
          },
          "metadata": {}
        },
        {
          "output_type": "display_data",
          "data": {
            "text/plain": [
              "<Figure size 700x450 with 1 Axes>"
            ],
            "image/png": "[encoded data removed]"
          },
          "metadata": {}
        },
        {
          "output_type": "display_data",
          "data": {
            "text/plain": [
              "<Figure size 700x450 with 1 Axes>"
            ],
            "image/png": "[encoded data removed]"
          },
          "metadata": {}
        }
      ]
    },
    {
      "cell_type": "code",
      "source": [],
      "metadata": {
        "id": "vq_cWeB7sASZ"
      },
      "execution_count": null,
      "outputs": []
    }
  ]
}